{
 "cells": [
  {
   "cell_type": "code",
   "execution_count": null,
   "id": "ed8656ea",
   "metadata": {},
   "outputs": [],
   "source": [
    "import pandas as pd\n",
    "import numpy as np\n",
    "from matplotlib import pyplot as plt\n",
    "import seaborn as sns\n",
    "from sklearn.model_selection import train_test_split\n",
    "from sklearn.linear_model import LogisticRegression\n",
    "from sklearn.tree  import DecisionTreeClassifier\n",
    "from sklearn.ensemble import RandomForestClassifier\n",
    "from lightgbm import LGBMClassifier\n",
    "from sklearn.metrics import accuracy_score,confusion_matrix,classification_report,f1_score\n",
    "from sklearn.metrics import classification_report\n",
    "from sklearn.metrics import accuracy_score\n",
    "from catboost import CatBoostClassifier\n",
    "from sklearn.linear_model import LogisticRegression\n",
    "from sklearn.neighbors import  KNeighborsClassifier\n",
    "from sklearn.ensemble import VotingClassifier\n",
    "from sklearn.metrics import accuracy_score, precision_score, recall_score, f1_score"
   ]
  },
  {
   "cell_type": "code",
   "execution_count": null,
   "id": "0ab4ca71",
   "metadata": {},
   "outputs": [],
   "source": [
    "df = pd.read_csv(\"heart.csv\")"
   ]
  },
  {
   "cell_type": "code",
   "execution_count": null,
   "id": "f36c9740",
   "metadata": {},
   "outputs": [],
   "source": [
    "sns.countplot(df['heart disease'])\n",
    "plt.title('Value counts of heart disease patients')\n",
    "plt.show()"
   ]
  },
  {
   "cell_type": "markdown",
   "id": "b75999b3",
   "metadata": {},
   "source": [
    "## ---EDA---"
   ]
  },
  {
   "cell_type": "code",
   "execution_count": null,
   "id": "23cae91b",
   "metadata": {},
   "outputs": [],
   "source": [
    "df.head()"
   ]
  },
  {
   "cell_type": "code",
   "execution_count": null,
   "id": "60e525af",
   "metadata": {},
   "outputs": [],
   "source": [
    "### Check if there is missing datas ###\n",
    "\n",
    "df.isnull().sum()"
   ]
  },
  {
   "cell_type": "code",
   "execution_count": null,
   "id": "27852b17",
   "metadata": {},
   "outputs": [],
   "source": [
    "### Rows and columns ###\n",
    "\n",
    "df.shape"
   ]
  },
  {
   "cell_type": "code",
   "execution_count": null,
   "id": "1acf73cb",
   "metadata": {},
   "outputs": [],
   "source": [
    "df.info"
   ]
  },
  {
   "cell_type": "code",
   "execution_count": null,
   "id": "08837e23",
   "metadata": {},
   "outputs": [],
   "source": [
    "df.info()"
   ]
  },
  {
   "cell_type": "markdown",
   "id": "56b203d9",
   "metadata": {},
   "source": [
    "### Hearth Disease"
   ]
  },
  {
   "cell_type": "code",
   "execution_count": null,
   "id": "f2b2e882",
   "metadata": {},
   "outputs": [],
   "source": [
    "################\n",
    "## Add LABELS ##\n",
    "################\n",
    "plt.figure(figsize=(12, 7))\n",
    "heartDisease_countplot = sns.countplot(x=df.HeartDisease,palette=[\"orange\",\"Blue\"])\n",
    "heartDisease_countplot.set_title(\"Distribution of Target 'Heart Disease'\")\n",
    "heartDisease_countplot.set_xticklabels(['No', 'Yes'], fontsize=20)"
   ]
  },
  {
   "cell_type": "code",
   "execution_count": null,
   "id": "78503f1f",
   "metadata": {},
   "outputs": [],
   "source": [
    "################\n",
    "## Add LABELS ##\n",
    "################\n",
    "sns.countplot(data=df,x='Sex' , palette=['orange','Blue']);\n",
    "plt.title('Sex Distribution')\n",
    "plt.xlabel('Sex')\n",
    "plt.ylabel('Count')"
   ]
  },
  {
   "cell_type": "code",
   "execution_count": null,
   "id": "6aa56464",
   "metadata": {},
   "outputs": [],
   "source": [
    "ChestPainType_label = ['ATA', 'NAP', 'ASY', 'TA']\n",
    "ChestPainType_size = [173, 203, 496, 46]\n",
    "ChestPainType_explode = (0, 0, 0, 0)\n",
    "\n",
    "plt.figure(figsize=(8,9))\n",
    "plt.bar(ChestPainType_label, ChestPainType_size, color=['orange', 'blue', 'slateblue','red'])\n",
    "plt.title(\"Count of ChestPainType\")\n",
    "plt.legend()\n",
    "\n",
    "ax = plt.gca()\n",
    "n_points = df.shape[0]\n",
    "for i, p in enumerate(ax.patches):\n",
    "    width, height = p.get_width(), p.get_height()\n",
    "    x, y = p.get_xy() \n",
    "    ax.annotate('{:.0%}'.format(height/n_points), (x, y + height + 0.01))"
   ]
  },
  {
   "cell_type": "markdown",
   "id": "0b65d18d",
   "metadata": {},
   "source": [
    "### RestingECG"
   ]
  },
  {
   "cell_type": "code",
   "execution_count": null,
   "id": "ee3fe4f7",
   "metadata": {},
   "outputs": [],
   "source": [
    "\n",
    "RestingECG_label = ['Normal', 'ST', 'LVH']\n",
    "RestingECG_size = [552, 178, 188]\n",
    "RestingECG_explode = (0, 0, 0)\n",
    "\n",
    "plt.figure(figsize=(8,9))\n",
    "plt.bar(RestingECG_label, RestingECG_size, color=['lime', 'red', 'slateblue'])\n",
    "plt.title(\"Count of RestingECG\")\n",
    "plt.legend()\n",
    "\n",
    "\n",
    "ax = plt.gca()\n",
    "n_points = df.shape[0]\n",
    "for i, p in enumerate(ax.patches):\n",
    "    width, height = p.get_width(), p.get_height()\n",
    "    x, y = p.get_xy() \n",
    "    ax.annotate('{:.0%}'.format(height/n_points), (x, y + height + 0.01))"
   ]
  },
  {
   "cell_type": "markdown",
   "id": "f2d47f5b",
   "metadata": {},
   "source": [
    "### ExeciseAngina"
   ]
  },
  {
   "cell_type": "code",
   "execution_count": null,
   "id": "a5e76d53",
   "metadata": {},
   "outputs": [],
   "source": [
    "############################\n",
    "#####gives wrong output ####\n",
    "#############################\n",
    "\n",
    "\n",
    "ExerciseAngina_label = ['yes', 'no']\n",
    "ExerciseAngina_size = [552, 178]\n",
    "ExerciseAngina_explode = (0, 0)\n",
    "\n",
    "plt.figure(figsize=(8,9))\n",
    "plt.bar(ExerciseAngina_label, ExerciseAngina_size, color=['orange', 'blue'])\n",
    "plt.title(\"ExersieAngina\")\n",
    "plt.legend()\n",
    "\n",
    "# Add percentages to the bars\n",
    "ax = plt.gca()\n",
    "n_points = df.shape[0]\n",
    "for i, p in enumerate(ax.patches):\n",
    "    width, height = p.get_width(), p.get_height()\n",
    "    x, y = p.get_xy() \n",
    "    ax.annotate('{:.0%}'.format(height/n_points), (x, y + height + 0.01))"
   ]
  },
  {
   "cell_type": "markdown",
   "id": "1fcb4a0e",
   "metadata": {},
   "source": [
    "### ST_Slopea"
   ]
  },
  {
   "cell_type": "code",
   "execution_count": null,
   "id": "749f5c62",
   "metadata": {},
   "outputs": [],
   "source": [
    "ST_Slope_label = ['Flat','Up','Down']\n",
    "ST_Slope_size = [552, 178, 188]\n",
    "ST_Slope_explode = (0, 0, 0)\n",
    "\n",
    "plt.figure(figsize=(8,9))\n",
    "plt.bar(ST_Slope_label, ST_Slope_size, color=['orange', 'blue', 'red'])\n",
    "plt.title(\"Count of RestingECG\")\n",
    "plt.legend()\n",
    "\n",
    "# Add percentages to the bars\n",
    "ax = plt.gca()\n",
    "n_points = df.shape[0]\n",
    "for i, p in enumerate(ax.patches):\n",
    "    width, height = p.get_width(), p.get_height()\n",
    "    x, y = p.get_xy() \n",
    "    ax.annotate('{:.0%}'.format(height/n_points), (x, y + height + 0.01))\n"
   ]
  },
  {
   "cell_type": "code",
   "execution_count": null,
   "id": "d73903ca",
   "metadata": {},
   "outputs": [],
   "source": []
  },
  {
   "cell_type": "code",
   "execution_count": null,
   "id": "4bb129ec",
   "metadata": {},
   "outputs": [],
   "source": [
    "Categorical = df.select_dtypes(include=['object'])\n",
    "Numerical = df.select_dtypes(include=['int64', 'float64'])"
   ]
  },
  {
   "cell_type": "code",
   "execution_count": null,
   "id": "f4404e8e",
   "metadata": {},
   "outputs": [],
   "source": [
    "# ploting numerical features with target\n",
    "#here we compare betwwen our target and our numerical features \n",
    "for i in Numerical:\n",
    "    plt.figure(figsize=(10,5))\n",
    "    sns.countplot(x=i, data=df, hue='HeartDisease')\n",
    "    plt.legend(['Normal', 'Heart Disease'])\n",
    "    plt.title(i)\n",
    "    plt.show()"
   ]
  },
  {
   "cell_type": "code",
   "execution_count": null,
   "id": "2323ae31",
   "metadata": {},
   "outputs": [],
   "source": [
    "#here we compare betwwen our target and our Categorical features \n",
    "for i in Categorical:\n",
    "    plt.figure(figsize=(10,10))\n",
    "    sns.countplot(x=i, data=df, hue='HeartDisease', edgecolor='black')\n",
    "    plt.legend(['Normal', 'Heart Disease'])\n",
    "    plt.title(i)\n",
    "    plt.show()"
   ]
  },
  {
   "cell_type": "code",
   "execution_count": null,
   "id": "6a278e8e",
   "metadata": {},
   "outputs": [],
   "source": []
  },
  {
   "cell_type": "code",
   "execution_count": null,
   "id": "e8b80760",
   "metadata": {},
   "outputs": [],
   "source": [
    "#here we compare betwwen our target and our Categorical features \n",
    "for i in Categorical:\n",
    "    plt.figure(figsize=(10,10))\n",
    "    sns.countplot(x=i, data=df, hue='Sex', edgecolor='black')\n",
    "    plt.legend(['Normal', 'Sex'])\n",
    "    plt.title(i)\n",
    "    plt.show()"
   ]
  },
  {
   "cell_type": "markdown",
   "id": "5d519a64",
   "metadata": {},
   "source": [
    "##                                        MODELING:"
   ]
  },
  {
   "cell_type": "markdown",
   "id": "f84d3716",
   "metadata": {},
   "source": [
    "## Logistic Regression :"
   ]
  },
  {
   "cell_type": "code",
   "execution_count": null,
   "id": "c5758519",
   "metadata": {},
   "outputs": [],
   "source": [
    "lr = LogisticRegression(C = 80)"
   ]
  },
  {
   "cell_type": "code",
   "execution_count": null,
   "id": "24212aff",
   "metadata": {},
   "outputs": [],
   "source": [
    "lr.fit(X_train , y_train)"
   ]
  },
  {
   "cell_type": "code",
   "execution_count": null,
   "id": "06d28eca",
   "metadata": {},
   "outputs": [],
   "source": [
    "lr.score(X_train , y_train)"
   ]
  },
  {
   "cell_type": "code",
   "execution_count": null,
   "id": "ef68fd4e",
   "metadata": {},
   "outputs": [],
   "source": [
    "lr.score(X_test , y_test)"
   ]
  },
  {
   "cell_type": "code",
   "execution_count": null,
   "id": "68a08688",
   "metadata": {},
   "outputs": [],
   "source": [
    "lr.predict(X_test)"
   ]
  },
  {
   "cell_type": "code",
   "execution_count": null,
   "id": "53f4fa6c",
   "metadata": {},
   "outputs": [],
   "source": [
    "Y_pred = lr.predict(X_test)\n",
    "data = pd.DataFrame({\"Y_test\" : y_test , \"Y_pred\": Y_pred})\n",
    "data.head(10)"
   ]
  },
  {
   "cell_type": "markdown",
   "id": "5d8c8370",
   "metadata": {},
   "source": [
    "## K-nearest neighbors (KNN):"
   ]
  },
  {
   "cell_type": "code",
   "execution_count": null,
   "id": "6d53afa0",
   "metadata": {},
   "outputs": [],
   "source": [
    "from sklearn.neighbors import KNeighborsClassifier"
   ]
  },
  {
   "cell_type": "code",
   "execution_count": null,
   "id": "6c4ed394",
   "metadata": {},
   "outputs": [],
   "source": [
    "knn = KNeighborsClassifier(n_neighbors=10)"
   ]
  },
  {
   "cell_type": "code",
   "execution_count": null,
   "id": "406777b3",
   "metadata": {},
   "outputs": [],
   "source": [
    "knn.fit(X_train , y_train)"
   ]
  },
  {
   "cell_type": "code",
   "execution_count": null,
   "id": "be340755",
   "metadata": {},
   "outputs": [],
   "source": [
    "knn.score(X_train , y_train)"
   ]
  },
  {
   "cell_type": "code",
   "execution_count": null,
   "id": "73bc2577",
   "metadata": {},
   "outputs": [],
   "source": [
    "knn.score(X_test , y_test)"
   ]
  },
  {
   "cell_type": "markdown",
   "id": "67720c9d",
   "metadata": {},
   "source": [
    "## Decision Tree:"
   ]
  },
  {
   "cell_type": "code",
   "execution_count": null,
   "id": "7633a8e2",
   "metadata": {},
   "outputs": [],
   "source": [
    "dt =DecisionTreeClassifier(max_features=9 ,    max_depth=4)"
   ]
  },
  {
   "cell_type": "code",
   "execution_count": null,
   "id": "d20723ba",
   "metadata": {},
   "outputs": [],
   "source": [
    "dt.fit(X_train , y_train)"
   ]
  },
  {
   "cell_type": "code",
   "execution_count": null,
   "id": "2a70b24f",
   "metadata": {},
   "outputs": [],
   "source": [
    "dt.score(X_train , y_train)"
   ]
  },
  {
   "cell_type": "code",
   "execution_count": null,
   "id": "1f4b6b26",
   "metadata": {},
   "outputs": [],
   "source": [
    "dt.score(X_test , y_test)"
   ]
  },
  {
   "cell_type": "code",
   "execution_count": null,
   "id": "b77ad666",
   "metadata": {},
   "outputs": [],
   "source": [
    "from sklearn import tree\n",
    "fig = plt.figure(figsize = (15,12))\n",
    "tree.plot_tree(dt , filled= True)"
   ]
  },
  {
   "cell_type": "code",
   "execution_count": null,
   "id": "7dfd931c",
   "metadata": {},
   "outputs": [],
   "source": [
    "Y_pred = dt.predict(X_test)\n",
    "data = pd.DataFrame({\"Y_test\" : y_test , \"Y_pred\": Y_pred})\n",
    "data.head(10)"
   ]
  },
  {
   "cell_type": "code",
   "execution_count": null,
   "id": "da9ea17b",
   "metadata": {},
   "outputs": [],
   "source": [
    "def f_importances(coef, names, top=-1):\n",
    "    imp = coef\n",
    "    imp, names = zip(*sorted(list(zip(imp, names))))\n",
    "\n",
    "    # Show all features\n",
    "    if top == -1:\n",
    "        top = len(names)\n",
    "\n",
    "    plt.barh(range(top), imp[::-1][0:top], align='center')\n",
    "    plt.yticks(range(top), names[::-1][0:top])\n",
    "    plt.title('feature importances for dt')\n",
    "    plt.show()\n",
    "\n",
    "# whatever your features are called\n",
    "features_names = list(df.columns)\n",
    "    \n",
    "#dt= DecisionTreeClassifier (max_depth=7, max_features=6)\n",
    "#df.fit(x_train,y_train)\n",
    "\n",
    "# Specify your top n features you want to visualize.\n",
    "# You can also discard the abs() function \n",
    "# if you are interested in negative contribution of features\n",
    "f_importances(abs(dt.feature_importances_), features_names, top=7)"
   ]
  },
  {
   "cell_type": "code",
   "execution_count": null,
   "id": "ed5fcde4",
   "metadata": {},
   "outputs": [],
   "source": [
    "# print the scores on training and test set\n",
    "\n",
    "print('Training set score: {:.4f}'.format(dt.score(X_train, y_train)))\n"
   ]
  },
  {
   "cell_type": "code",
   "execution_count": null,
   "id": "bd76f02e",
   "metadata": {},
   "outputs": [],
   "source": [
    "print('Test set score: {:.4f}'.format(dt.score(X_test, y_test)))"
   ]
  },
  {
   "cell_type": "code",
   "execution_count": null,
   "id": "03055523",
   "metadata": {},
   "outputs": [],
   "source": [
    "#Classification Report#:it seems it is very good \n",
    "from sklearn.metrics import classification_report\n",
    "\n",
    "print(classification_report(y_test, Y_pred))"
   ]
  }
 ],
 "metadata": {
  "kernelspec": {
   "display_name": "Python 3",
   "language": "python",
   "name": "python3"
  },
  "language_info": {
   "codemirror_mode": {
    "name": "ipython",
    "version": 3
   },
   "file_extension": ".py",
   "mimetype": "text/x-python",
   "name": "python",
   "nbconvert_exporter": "python",
   "pygments_lexer": "ipython3",
   "version": "3.8.8"
  }
 },
 "nbformat": 4,
 "nbformat_minor": 5
}
