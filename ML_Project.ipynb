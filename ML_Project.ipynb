{
 "cells": [
  {
   "cell_type": "code",
   "execution_count": null,
   "id": "ed8656ea",
   "metadata": {},
   "outputs": [],
   "source": [
    "import pandas as pd\n",
    "import numpy as np\n",
    "from matplotlib import pyplot as plt\n",
    "import seaborn as sns\n",
    "from sklearn.model_selection import train_test_split\n",
    "from sklearn.linear_model import LogisticRegression\n",
    "from sklearn.tree  import DecisionTreeClassifier\n",
    "from sklearn.ensemble import RandomForestClassifier\n",
    "from lightgbm import LGBMClassifier\n",
    "from sklearn.metrics import accuracy_score,confusion_matrix,classification_report,f1_score\n",
    "from sklearn.metrics import classification_report\n",
    "from sklearn.metrics import accuracy_score\n",
    "from catboost import CatBoostClassifier\n",
    "from sklearn.linear_model import LogisticRegression\n",
    "from sklearn.neighbors import  KNeighborsClassifier\n",
    "from sklearn.ensemble import VotingClassifier\n",
    "from sklearn.metrics import accuracy_score, precision_score, recall_score, f1_score"
   ]
  },
  {
   "cell_type": "code",
   "execution_count": null,
   "id": "0ab4ca71",
   "metadata": {},
   "outputs": [],
   "source": [
    "df = pd.read_csv(\"heart.csv\")"
   ]
  },
  {
   "cell_type": "markdown",
   "id": "b75999b3",
   "metadata": {},
   "source": [
    "## ---EDA---"
   ]
  },
  {
   "cell_type": "code",
   "execution_count": null,
   "id": "23cae91b",
   "metadata": {},
   "outputs": [],
   "source": [
    "df.head()"
   ]
  },
  {
   "cell_type": "code",
   "execution_count": null,
   "id": "60e525af",
   "metadata": {},
   "outputs": [],
   "source": [
    "### Check if there is missing datas ###\n",
    "\n",
    "df.isnull().sum()"
   ]
  },
  {
   "cell_type": "code",
   "execution_count": null,
   "id": "27852b17",
   "metadata": {},
   "outputs": [],
   "source": [
    "### Rows and columns ###\n",
    "\n",
    "df.shape"
   ]
  },
  {
   "cell_type": "code",
   "execution_count": null,
   "id": "1acf73cb",
   "metadata": {},
   "outputs": [],
   "source": [
    "df.info"
   ]
  },
  {
   "cell_type": "code",
   "execution_count": null,
   "id": "08837e23",
   "metadata": {},
   "outputs": [],
   "source": [
    "df.info()"
   ]
  },
  {
   "cell_type": "markdown",
   "id": "56b203d9",
   "metadata": {},
   "source": [
    "### Hearth Disease"
   ]
  },
  {
   "cell_type": "code",
   "execution_count": null,
   "id": "f2b2e882",
   "metadata": {},
   "outputs": [],
   "source": [
    "################\n",
    "## Add LABELS ##\n",
    "################\n",
    "plt.figure(figsize=(12, 7))\n",
    "heartDisease_countplot = sns.countplot(x=df.HeartDisease,palette=[\"orange\",\"Blue\"])\n",
    "heartDisease_countplot.set_title(\"Distribution of Target 'Heart Disease'\")\n",
    "heartDisease_countplot.set_xticklabels(['No', 'Yes'], fontsize=20)"
   ]
  },
  {
   "cell_type": "markdown",
   "id": "d6287481",
   "metadata": {},
   "source": [
    "## Sex"
   ]
  },
  {
   "cell_type": "code",
   "execution_count": null,
   "id": "78503f1f",
   "metadata": {},
   "outputs": [],
   "source": [
    "################\n",
    "## Add LABELS ##\n",
    "################\n",
    "sns.countplot(data=df,x='Sex' , palette=['orange','Blue']);\n",
    "plt.title('Sex Distribution')\n",
    "plt.xlabel('Sex')\n",
    "plt.ylabel('Count')"
   ]
  },
  {
   "cell_type": "markdown",
   "id": "a65c1992",
   "metadata": {},
   "source": [
    "## Heart Disease gender distiribution"
   ]
  },
  {
   "cell_type": "code",
   "execution_count": null,
   "id": "cbe92803",
   "metadata": {},
   "outputs": [],
   "source": []
  },
  {
   "cell_type": "code",
   "execution_count": null,
   "id": "56224621",
   "metadata": {},
   "outputs": [],
   "source": []
  },
  {
   "cell_type": "code",
   "execution_count": null,
   "id": "9f2e9439",
   "metadata": {},
   "outputs": [],
   "source": []
  },
  {
   "cell_type": "code",
   "execution_count": null,
   "id": "3fd48f17",
   "metadata": {},
   "outputs": [],
   "source": []
  },
  {
   "cell_type": "code",
   "execution_count": null,
   "id": "749fbba2",
   "metadata": {},
   "outputs": [],
   "source": []
  },
  {
   "cell_type": "markdown",
   "id": "bff7d611",
   "metadata": {},
   "source": [
    "## ChestPainType"
   ]
  },
  {
   "cell_type": "code",
   "execution_count": null,
   "id": "6aa56464",
   "metadata": {},
   "outputs": [],
   "source": [
    "ChestPainType_label = ['ATA', 'NAP', 'ASY', 'TA']\n",
    "ChestPainType_size = [173, 203, 496, 46]\n",
    "ChestPainType_explode = (0, 0, 0, 0)\n",
    "\n",
    "plt.figure(figsize=(8,9))\n",
    "plt.bar(ChestPainType_label, ChestPainType_size, color=['orange', 'blue', 'slateblue','red'])\n",
    "plt.title(\"Count of ChestPainType\")\n",
    "plt.legend()\n",
    "\n",
    "ax = plt.gca()\n",
    "n_points = df.shape[0]\n",
    "for i, p in enumerate(ax.patches):\n",
    "    width, height = p.get_width(), p.get_height()\n",
    "    x, y = p.get_xy() \n",
    "    ax.annotate('{:.0%}'.format(height/n_points), (x, y + height + 0.01))"
   ]
  },
  {
   "cell_type": "markdown",
   "id": "0b65d18d",
   "metadata": {},
   "source": [
    "### RestingECG"
   ]
  },
  {
   "cell_type": "code",
   "execution_count": null,
   "id": "ee3fe4f7",
   "metadata": {},
   "outputs": [],
   "source": [
    "\n",
    "RestingECG_label = ['Normal', 'ST', 'LVH']\n",
    "RestingECG_size = [552, 178, 188]\n",
    "RestingECG_explode = (0, 0, 0)\n",
    "\n",
    "plt.figure(figsize=(8,9))\n",
    "plt.bar(RestingECG_label, RestingECG_size, color=['lime', 'red', 'slateblue'])\n",
    "plt.title(\"Count of RestingECG\")\n",
    "plt.legend()\n",
    "\n",
    "\n",
    "ax = plt.gca()\n",
    "n_points = df.shape[0]\n",
    "for i, p in enumerate(ax.patches):\n",
    "    width, height = p.get_width(), p.get_height()\n",
    "    x, y = p.get_xy() \n",
    "    ax.annotate('{:.0%}'.format(height/n_points), (x, y + height + 0.01))"
   ]
  },
  {
   "cell_type": "markdown",
   "id": "f2d47f5b",
   "metadata": {},
   "source": [
    "### ExeciseAngina"
   ]
  },
  {
   "cell_type": "code",
   "execution_count": null,
   "id": "a5e76d53",
   "metadata": {},
   "outputs": [],
   "source": [
    "############################\n",
    "##### Check output ####\n",
    "#############################\n",
    "\n",
    "\n",
    "ExerciseAngina_label = ['yes', 'no']\n",
    "ExerciseAngina_size = [552, 178]\n",
    "ExerciseAngina_explode = (0, 0)\n",
    "\n",
    "plt.figure(figsize=(8,9))\n",
    "plt.bar(ExerciseAngina_label, ExerciseAngina_size, color=['orange', 'blue'])\n",
    "plt.title(\"ExersieAngina\")\n",
    "plt.legend()\n",
    "\n",
    "# Add percentages to the bars\n",
    "ax = plt.gca()\n",
    "n_points = df.shape[0]\n",
    "for i, p in enumerate(ax.patches):\n",
    "    width, height = p.get_width(), p.get_height()\n",
    "    x, y = p.get_xy() \n",
    "    ax.annotate('{:.0%}'.format(height/n_points), (x, y + height + 0.01))"
   ]
  },
  {
   "cell_type": "markdown",
   "id": "1fcb4a0e",
   "metadata": {},
   "source": [
    "### ST_Slopea"
   ]
  },
  {
   "cell_type": "code",
   "execution_count": null,
   "id": "749f5c62",
   "metadata": {},
   "outputs": [],
   "source": [
    "ST_Slope_label = ['Flat','Up','Down']\n",
    "ST_Slope_size = [552, 178, 188]\n",
    "ST_Slope_explode = (0, 0, 0)\n",
    "\n",
    "plt.figure(figsize=(8,9))\n",
    "plt.bar(ST_Slope_label, ST_Slope_size, color=['orange', 'blue', 'red'])\n",
    "plt.title(\"Count of RestingECG\")\n",
    "plt.legend()\n",
    "\n",
    "# Add percentages to the bars\n",
    "ax = plt.gca()\n",
    "n_points = df.shape[0]\n",
    "for i, p in enumerate(ax.patches):\n",
    "    width, height = p.get_width(), p.get_height()\n",
    "    x, y = p.get_xy() \n",
    "    ax.annotate('{:.0%}'.format(height/n_points), (x, y + height + 0.01))\n"
   ]
  },
  {
   "cell_type": "code",
   "execution_count": null,
   "id": "d73903ca",
   "metadata": {},
   "outputs": [],
   "source": []
  },
  {
   "cell_type": "code",
   "execution_count": null,
   "id": "4bb129ec",
   "metadata": {},
   "outputs": [],
   "source": [
    "Categorical = df.select_dtypes(include=['object'])\n",
    "Numerical = df.select_dtypes(include=['int64', 'float64'])"
   ]
  },
  {
   "cell_type": "code",
   "execution_count": null,
   "id": "f4404e8e",
   "metadata": {},
   "outputs": [],
   "source": [
    "# ploting numerical features with target\n",
    "#here we compare betwwen our target and our numerical features \n",
    "for i in Numerical:\n",
    "    plt.figure(figsize=(10,5))\n",
    "    sns.countplot(x=i, data=df, hue='HeartDisease')\n",
    "    plt.legend(['Normal', 'Heart Disease'])\n",
    "    plt.title(i)\n",
    "    plt.show()"
   ]
  },
  {
   "cell_type": "code",
   "execution_count": null,
   "id": "2323ae31",
   "metadata": {},
   "outputs": [],
   "source": [
    "#here we compare betwwen our target and our Categorical features \n",
    "for i in Categorical:\n",
    "    plt.figure(figsize=(10,10))\n",
    "    sns.countplot(x=i, data=df, hue='HeartDisease', edgecolor='black')\n",
    "    plt.legend(['Normal', 'Heart Disease'])\n",
    "    plt.title(i)\n",
    "    plt.show()"
   ]
  },
  {
   "cell_type": "code",
   "execution_count": null,
   "id": "6a278e8e",
   "metadata": {},
   "outputs": [],
   "source": []
  },
  {
   "cell_type": "code",
   "execution_count": null,
   "id": "e8b80760",
   "metadata": {},
   "outputs": [],
   "source": [
    "#here we compare betwwen our target and our Categorical features \n",
    "for i in Categorical:\n",
    "    plt.figure(figsize=(10,10))\n",
    "    sns.countplot(x=i, data=df, hue='Sex', edgecolor='black')\n",
    "    plt.legend(['Normal', 'Sex'])\n",
    "    plt.title(i)\n",
    "    plt.show()"
   ]
  },
  {
   "cell_type": "markdown",
   "id": "5bc5286f",
   "metadata": {},
   "source": [
    "## Handeling with outliers :"
   ]
  },
  {
   "cell_type": "code",
   "execution_count": null,
   "id": "1e14d26d",
   "metadata": {},
   "outputs": [],
   "source": [
    "plt.figure(figsize=(15,9))\n",
    "sns.boxplot(data=df)"
   ]
  },
  {
   "cell_type": "code",
   "execution_count": null,
   "id": "78b702ec",
   "metadata": {},
   "outputs": [],
   "source": [
    "plt.figure(figsize=(15,9))\n",
    "sns.scatterplot(data=df)"
   ]
  },
  {
   "cell_type": "code",
   "execution_count": null,
   "id": "a4113d22",
   "metadata": {},
   "outputs": [],
   "source": [
    "df_num_name = ['Age', 'RestingBP', 'Cholesterol', 'MaxHR', 'Oldpeak']"
   ]
  },
  {
   "cell_type": "code",
   "execution_count": null,
   "id": "5e6a558a",
   "metadata": {},
   "outputs": [],
   "source": [
    "## Detect Outliers\n",
    "\n",
    "def find_outliers_IQR(df):\n",
    "\n",
    "   q1=df.quantile(0.25)\n",
    "\n",
    "   q3=df.quantile(0.75)\n",
    "\n",
    "   IQR=q3-q1\n",
    "\n",
    "   outliers = df[((df<(q1-1.5*IQR)) | (df>(q3+1.5*IQR)))]\n",
    "\n",
    "   return outliers"
   ]
  },
  {
   "cell_type": "code",
   "execution_count": null,
   "id": "5501094b",
   "metadata": {},
   "outputs": [],
   "source": [
    "\n",
    "outliers = find_outliers_IQR(df['RestingBP'])\n",
    "print('number of outliers: '+ str(len(outliers)))\n",
    "\n",
    "print('max outlier value: '+ str(outliers.max()))\n",
    "\n",
    "print('min outlier value: '+ str(outliers.min()))"
   ]
  },
  {
   "cell_type": "code",
   "execution_count": null,
   "id": "a99950a5",
   "metadata": {},
   "outputs": [],
   "source": [
    "for char in df_num_name :\n",
    "    outliers = find_outliers_IQR(df[str(char)])\n",
    "    \n",
    "    print(f\"-Check {char} outliers \")\n",
    "\n",
    "    print('number of outliers: '+ str(len(outliers)))\n",
    "\n",
    "    print('max outlier value: '+ str(outliers.max()))\n",
    "\n",
    "    print('min outlier value: '+ str(outliers.min())+ '\\n')"
   ]
  },
  {
   "cell_type": "code",
   "execution_count": null,
   "id": "35be0fa9",
   "metadata": {},
   "outputs": [],
   "source": [
    "print(f\" original shape of Cholesterol : {df.Cholesterol.shape}\")\n",
    "\n",
    "ziro_Cholesterol = df[df['Cholesterol'] == 0]\n",
    "print(f\" zero values of Cholesterol : {ziro_Cholesterol.shape}\")\n",
    "\n",
    "non_ziro_Cholesterol = df[df['Cholesterol'] != 0]\n",
    "print(f\" non zero values of Cholesterol : {non_ziro_Cholesterol.shape}\")"
   ]
  },
  {
   "cell_type": "code",
   "execution_count": null,
   "id": "3d9f936c",
   "metadata": {},
   "outputs": [],
   "source": [
    "df.loc[df['Cholesterol'] == 0,'Cholesterol'] = np.nan\n",
    "df.head(5)"
   ]
  },
  {
   "cell_type": "code",
   "execution_count": null,
   "id": "a526c635",
   "metadata": {},
   "outputs": [],
   "source": [
    "df[\"Cholesterol\"] = df[\"Cholesterol\"].fillna(df[\"Cholesterol\"].median())\n",
    "df[\"Cholesterol\"]"
   ]
  },
  {
   "cell_type": "code",
   "execution_count": null,
   "id": "fc35ee64",
   "metadata": {},
   "outputs": [],
   "source": [
    "ziro_RestingBP = df[df['RestingBP'] == 0]\n",
    "ziro_RestingBP"
   ]
  },
  {
   "cell_type": "code",
   "execution_count": null,
   "id": "e3c5898b",
   "metadata": {},
   "outputs": [],
   "source": [
    "df = df.drop(df[(df['RestingBP'] == 0)].index) \n",
    "#after this we decide to drop this columns "
   ]
  },
  {
   "cell_type": "code",
   "execution_count": null,
   "id": "eb659a80",
   "metadata": {},
   "outputs": [],
   "source": [
    "normal_RestingBP = df[df['RestingBP'] <= 120 ]\n",
    "PreHyper_RestingBP = df[(df['RestingBP'] > 120) & (df['RestingBP']<= 139) ]\n",
    "High1_RestingBP = df[(df['RestingBP'] >= 140) & (df['RestingBP']<= 159) ]\n",
    "High2_RestingBP = df[(df['RestingBP'] >= 160) & (df['RestingBP']<= 180) ]\n",
    "HyperTensive_RestingBP = df[df['RestingBP'] >= 180]\n",
    "#here we detect the restingbp"
   ]
  },
  {
   "cell_type": "code",
   "execution_count": null,
   "id": "e0dee132",
   "metadata": {},
   "outputs": [],
   "source": []
  },
  {
   "cell_type": "code",
   "execution_count": null,
   "id": "f92a7ce8",
   "metadata": {},
   "outputs": [],
   "source": []
  },
  {
   "cell_type": "code",
   "execution_count": null,
   "id": "36cdfb87",
   "metadata": {},
   "outputs": [],
   "source": []
  },
  {
   "cell_type": "markdown",
   "id": "c5f999e2",
   "metadata": {},
   "source": [
    "## Encoding categorical features:"
   ]
  },
  {
   "cell_type": "code",
   "execution_count": null,
   "id": "6506ce7d",
   "metadata": {},
   "outputs": [],
   "source": [
    "from sklearn.preprocessing import LabelEncoder"
   ]
  },
  {
   "cell_type": "code",
   "execution_count": null,
   "id": "1ea5a633",
   "metadata": {},
   "outputs": [],
   "source": [
    "ChestPainType_le = LabelEncoder()\n",
    "RestingECG_le = LabelEncoder()\n",
    "ExerciseAngina_le = LabelEncoder()\n",
    "ST_Slope_le = LabelEncoder()\n",
    "Sex_le = LabelEncoder()"
   ]
  },
  {
   "cell_type": "code",
   "execution_count": null,
   "id": "e4cf9a36",
   "metadata": {},
   "outputs": [],
   "source": [
    "df['ChestPainType'] = ChestPainType_le.fit_transform(df['ChestPainType'])"
   ]
  },
  {
   "cell_type": "code",
   "execution_count": null,
   "id": "67d9c623",
   "metadata": {},
   "outputs": [],
   "source": [
    "ChestPainType_le.classes_"
   ]
  },
  {
   "cell_type": "code",
   "execution_count": null,
   "id": "2218a1c2",
   "metadata": {},
   "outputs": [],
   "source": [
    "df['RestingECG'] = RestingECG_le.fit_transform(df['RestingECG'])"
   ]
  },
  {
   "cell_type": "code",
   "execution_count": null,
   "id": "88c7b1b1",
   "metadata": {},
   "outputs": [],
   "source": [
    "RestingECG_le.classes_"
   ]
  },
  {
   "cell_type": "code",
   "execution_count": null,
   "id": "94e79c9d",
   "metadata": {},
   "outputs": [],
   "source": [
    "df['ST_Slope'] = ST_Slope_le.fit_transform(df['ExerciseAngina'])"
   ]
  },
  {
   "cell_type": "code",
   "execution_count": null,
   "id": "c9698f4d",
   "metadata": {},
   "outputs": [],
   "source": [
    "ST_Slope_le.classes_"
   ]
  },
  {
   "cell_type": "code",
   "execution_count": null,
   "id": "502b27b8",
   "metadata": {},
   "outputs": [],
   "source": [
    "df['ExerciseAngina'] = ExerciseAngina_le.fit_transform(df['ExerciseAngina'])"
   ]
  },
  {
   "cell_type": "code",
   "execution_count": null,
   "id": "608a36d3",
   "metadata": {},
   "outputs": [],
   "source": [
    "ExerciseAngina_le.classes_"
   ]
  },
  {
   "cell_type": "code",
   "execution_count": null,
   "id": "6a45e6b3",
   "metadata": {},
   "outputs": [],
   "source": [
    "df['Sex'] = Sex_le.fit_transform(df['Sex'])"
   ]
  },
  {
   "cell_type": "code",
   "execution_count": null,
   "id": "9837bcfc",
   "metadata": {},
   "outputs": [],
   "source": [
    "Sex_le.classes_"
   ]
  },
  {
   "cell_type": "code",
   "execution_count": null,
   "id": "6215e731",
   "metadata": {},
   "outputs": [],
   "source": [
    "df.info()"
   ]
  },
  {
   "cell_type": "markdown",
   "id": "1e7518cd",
   "metadata": {},
   "source": [
    "## Split and test the data:"
   ]
  },
  {
   "cell_type": "code",
   "execution_count": null,
   "id": "17c4adc0",
   "metadata": {},
   "outputs": [],
   "source": [
    "x = df.drop('HeartDisease', axis=1)\n",
    "y = df.HeartDisease"
   ]
  },
  {
   "cell_type": "code",
   "execution_count": null,
   "id": "50057a39",
   "metadata": {},
   "outputs": [],
   "source": [
    "from sklearn.model_selection import train_test_split\n",
    "X_train,X_test,y_train,y_test = train_test_split(x,y,test_size=0.2,random_state=21)\n"
   ]
  },
  {
   "cell_type": "code",
   "execution_count": null,
   "id": "0cc66aad",
   "metadata": {},
   "outputs": [],
   "source": [
    "from sklearn.preprocessing import StandardScaler\n",
    "std_scaler = StandardScaler()\n",
    "std_scaler.fit(x)\n",
    "X_train_std=std_scaler.transform(X_train)\n",
    "X_test_std=std_scaler.transform(X_test)\n",
    "\n",
    "X_train = pd.DataFrame(X_train_std, columns=x.columns)\n",
    "X_test = pd.DataFrame(X_test_std, columns=x.columns)"
   ]
  },
  {
   "cell_type": "code",
   "execution_count": null,
   "id": "7c79c6b5",
   "metadata": {},
   "outputs": [],
   "source": [
    "display(X_train.head())\n",
    "\n"
   ]
  },
  {
   "cell_type": "code",
   "execution_count": null,
   "id": "fa984615",
   "metadata": {},
   "outputs": [],
   "source": [
    "display(X_test.head())"
   ]
  },
  {
   "cell_type": "code",
   "execution_count": null,
   "id": "af67cdee",
   "metadata": {},
   "outputs": [],
   "source": []
  },
  {
   "cell_type": "markdown",
   "id": "19b62ca4",
   "metadata": {},
   "source": [
    "##                                        MODELING:"
   ]
  },
  {
   "cell_type": "markdown",
   "id": "04b9d082",
   "metadata": {},
   "source": [
    "## Logistic Regression :"
   ]
  },
  {
   "cell_type": "code",
   "execution_count": null,
   "id": "2d0abfa6",
   "metadata": {},
   "outputs": [],
   "source": [
    "lr = LogisticRegression(C = 80)"
   ]
  },
  {
   "cell_type": "code",
   "execution_count": null,
   "id": "ae0e960f",
   "metadata": {},
   "outputs": [],
   "source": [
    "lr.fit(X_train , y_train)"
   ]
  },
  {
   "cell_type": "code",
   "execution_count": null,
   "id": "eb65dbaf",
   "metadata": {},
   "outputs": [],
   "source": [
    "lr.score(X_train , y_train)"
   ]
  },
  {
   "cell_type": "code",
   "execution_count": null,
   "id": "a8c50aee",
   "metadata": {},
   "outputs": [],
   "source": [
    "lr.score(X_test , y_test)"
   ]
  },
  {
   "cell_type": "code",
   "execution_count": null,
   "id": "75624c82",
   "metadata": {},
   "outputs": [],
   "source": [
    "lr.predict(X_test)"
   ]
  },
  {
   "cell_type": "code",
   "execution_count": null,
   "id": "2f51c5cd",
   "metadata": {},
   "outputs": [],
   "source": [
    "Y_pred = lr.predict(X_test)\n",
    "data = pd.DataFrame({\"Y_test\" : y_test , \"Y_pred\": Y_pred})\n",
    "data.head(10)"
   ]
  },
  {
   "cell_type": "markdown",
   "id": "ec2488c5",
   "metadata": {},
   "source": [
    "## K-nearest neighbors (KNN):"
   ]
  },
  {
   "cell_type": "code",
   "execution_count": null,
   "id": "5ae49481",
   "metadata": {},
   "outputs": [],
   "source": [
    "from sklearn.neighbors import KNeighborsClassifier"
   ]
  },
  {
   "cell_type": "code",
   "execution_count": null,
   "id": "b1c62e5a",
   "metadata": {},
   "outputs": [],
   "source": [
    "knn = KNeighborsClassifier(n_neighbors=10)"
   ]
  },
  {
   "cell_type": "code",
   "execution_count": null,
   "id": "b1820317",
   "metadata": {},
   "outputs": [],
   "source": [
    "knn.fit(X_train , y_train)"
   ]
  },
  {
   "cell_type": "code",
   "execution_count": null,
   "id": "e65f8e90",
   "metadata": {},
   "outputs": [],
   "source": [
    "knn.score(X_train , y_train)"
   ]
  },
  {
   "cell_type": "code",
   "execution_count": null,
   "id": "735b44c6",
   "metadata": {},
   "outputs": [],
   "source": [
    "knn.score(X_test , y_test)"
   ]
  },
  {
   "cell_type": "markdown",
   "id": "b3d976d5",
   "metadata": {},
   "source": [
    "## Decision Tree:"
   ]
  },
  {
   "cell_type": "code",
   "execution_count": null,
   "id": "7633a8e2",
   "metadata": {},
   "outputs": [],
   "source": [
    "dt =DecisionTreeClassifier(max_features=9 ,    max_depth=4)"
   ]
  },
  {
   "cell_type": "code",
   "execution_count": null,
   "id": "7a6c0cc4",
   "metadata": {},
   "outputs": [],
   "source": [
    "dt.fit(X_train , y_train)"
   ]
  },
  {
   "cell_type": "code",
   "execution_count": null,
   "id": "a297c8f6",
   "metadata": {},
   "outputs": [],
   "source": [
    "dt.score(X_train , y_train)"
   ]
  },
  {
   "cell_type": "code",
   "execution_count": null,
   "id": "5aa2ed88",
   "metadata": {},
   "outputs": [],
   "source": [
    "dt.score(X_test , y_test)"
   ]
  },
  {
   "cell_type": "code",
   "execution_count": null,
   "id": "dfa9d490",
   "metadata": {},
   "outputs": [],
   "source": [
    "#from sklearn.tree import plot_tree\n",
    "#plt.figure(figsize=(80,40))\n",
    "#plot_tree(rf_best.estimators_[5], feature_names = X.columns,class_names=['Disease', \"No Disease\"],filled=True);"
   ]
  },
  {
   "cell_type": "code",
   "execution_count": null,
   "id": "b77ad666",
   "metadata": {},
   "outputs": [],
   "source": [
    "from sklearn import tree\n",
    "fig = plt.figure(figsize = (15,12))\n",
    "#fig = plt.figure(figsize = (10,9))\n",
    "tree.plot_tree(dt , filled= True)"
   ]
  },
  {
   "cell_type": "code",
   "execution_count": null,
   "id": "7dfd931c",
   "metadata": {},
   "outputs": [],
   "source": [
    "Y_pred = dt.predict(X_test)\n",
    "data = pd.DataFrame({\"Y_test\" : y_test , \"Y_pred\": Y_pred})\n",
    "data.head(10)"
   ]
  },
  {
   "cell_type": "code",
   "execution_count": null,
   "id": "da9ea17b",
   "metadata": {},
   "outputs": [],
   "source": [
    "def f_importances(coef, names, top=-1):\n",
    "    imp = coef\n",
    "    imp, names = zip(*sorted(list(zip(imp, names))))\n",
    "\n",
    "    # Show all features\n",
    "    if top == -1:\n",
    "        top = len(names)\n",
    "\n",
    "    plt.barh(range(top), imp[::-1][0:top], align='center')\n",
    "    plt.yticks(range(top), names[::-1][0:top])\n",
    "    plt.title('feature importances for dt')\n",
    "    plt.show()\n",
    "\n",
    "features_names = list(df.columns)\n",
    "    \n",
    "f_importances(abs(dt.feature_importances_), features_names, top=7)"
   ]
  },
  {
   "cell_type": "code",
   "execution_count": null,
   "id": "ed5fcde4",
   "metadata": {},
   "outputs": [],
   "source": [
    "# print the scores on training and test set\n",
    "\n",
    "print('Training set score: {:.4f}'.format(dt.score(X_train, y_train)))\n"
   ]
  },
  {
   "cell_type": "code",
   "execution_count": null,
   "id": "bd76f02e",
   "metadata": {},
   "outputs": [],
   "source": [
    "print('Test set score: {:.4f}'.format(dt.score(X_test, y_test)))"
   ]
  },
  {
   "cell_type": "code",
   "execution_count": null,
   "id": "03055523",
   "metadata": {},
   "outputs": [],
   "source": [
    "\n",
    "from sklearn.metrics import classification_report\n",
    "\n",
    "print(classification_report(y_test, Y_pred))"
   ]
  },
  {
   "cell_type": "markdown",
   "id": "386d0fb0",
   "metadata": {},
   "source": [
    "## XGBM "
   ]
  },
  {
   "cell_type": "code",
   "execution_count": null,
   "id": "f5192011",
   "metadata": {},
   "outputs": [],
   "source": [
    "import xgboost as Xgb"
   ]
  },
  {
   "cell_type": "code",
   "execution_count": null,
   "id": "cf5e895a",
   "metadata": {},
   "outputs": [],
   "source": [
    "xgb = Xgb.XGBClassifier("
   ]
  },
  {
   "cell_type": "code",
   "execution_count": null,
   "id": "404a49b4",
   "metadata": {},
   "outputs": [],
   "source": [
    "xgb.fit(X_train,y_train)\n"
   ]
  },
  {
   "cell_type": "code",
   "execution_count": null,
   "id": "9655c717",
   "metadata": {},
   "outputs": [],
   "source": [
    "xgb.score(X_train, y_train)\n"
   ]
  },
  {
   "cell_type": "code",
   "execution_count": null,
   "id": "8a5b7e62",
   "metadata": {},
   "outputs": [],
   "source": [
    "y_pred_xgb = xgb.predict(X_test)"
   ]
  },
  {
   "cell_type": "code",
   "execution_count": null,
   "id": "061eac91",
   "metadata": {},
   "outputs": [],
   "source": [
    "from sklearn.metrics import accuracy_score,confusion_matrix,classification_report,f1_score\n",
    "xgb_train = round(xgb.score(X_train, y_train) * 100, 2)\n",
    "xgb_accuracy = round(accuracy_score(y_pred_xgb, y_test) * 100, 2)\n",
    "xgb_f1 = round(f1_score(y_pred_xgb, y_test) * 100, 2)"
   ]
  },
  {
   "cell_type": "code",
   "execution_count": null,
   "id": "bc7028e6",
   "metadata": {},
   "outputs": [],
   "source": [
    "print(\"Training Accuracy     :\",xgb_train,\"%\")\n",
    "print(\"Model Accuracy Score  :\",xgb_accuracy,\"%\")\n",
    "print(\"Confusion Matrix: \\n\",confusion_matrix(y_test,y_pred_xgb))\n",
    "print(\"Classification_Report: \\n\",classification_report(y_test,y_pred_xgb))"
   ]
  },
  {
   "cell_type": "code",
   "execution_count": null,
   "id": "d903f95d",
   "metadata": {},
   "outputs": [],
   "source": []
  },
  {
   "cell_type": "code",
   "execution_count": null,
   "id": "a881599f",
   "metadata": {},
   "outputs": [],
   "source": []
  },
  {
   "cell_type": "code",
   "execution_count": null,
   "id": "efba937f",
   "metadata": {},
   "outputs": [],
   "source": []
  },
  {
   "cell_type": "code",
   "execution_count": null,
   "id": "f7ee5c06",
   "metadata": {},
   "outputs": [],
   "source": []
  }
 ],
 "metadata": {
  "kernelspec": {
   "display_name": "Python 3",
   "language": "python",
   "name": "python3"
  },
  "language_info": {
   "codemirror_mode": {
    "name": "ipython",
    "version": 3
   },
   "file_extension": ".py",
   "mimetype": "text/x-python",
   "name": "python",
   "nbconvert_exporter": "python",
   "pygments_lexer": "ipython3",
   "version": "3.8.8"
  }
 },
 "nbformat": 4,
 "nbformat_minor": 5
}
